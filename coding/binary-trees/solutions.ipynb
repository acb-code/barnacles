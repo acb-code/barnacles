{
 "cells": [
  {
   "cell_type": "code",
   "execution_count": null,
   "id": "51e38bc1",
   "metadata": {},
   "outputs": [],
   "source": [
    "# Basics\n",
    "\n",
    "# - Binary tree - data structure where each node has a val, left, right\n",
    "class TreeNode:\n",
    "    def __init__(self, val=0, left=None, right=None):\n",
    "        self.val = val\n",
    "        self.left = left\n",
    "        self.right = right\n",
    "\n",
    "# traversals\n",
    "# DFS\n",
    "def inorder(node):\n",
    "    if node:\n",
    "        inorder(node.left)\n",
    "        print(node.val)\n",
    "        inorder(node.right)\n",
    "\n",
    "# BFS\n",
    "from collections import deque\n",
    "def level_order(root):\n",
    "    q = deque([root])\n",
    "    while q:\n",
    "        node = q.popleft()\n",
    "        if node:\n",
    "            print(node.val)\n",
    "            q.append(node.left)\n",
    "            q.append(node.right)\n",
    "\n",
    "# typical recursion\n",
    "def helper(node):\n",
    "    if not node:\n",
    "        return # base case (can return something)\n",
    "    left = helper(node.left)\n",
    "    right = helper(node.right)\n",
    "    # combine results\n",
    "    combined_value = left + right\n",
    "    return combined_value"
   ]
  },
  {
   "cell_type": "code",
   "execution_count": null,
   "id": "c71e0a29",
   "metadata": {},
   "outputs": [],
   "source": [
    "# leetcode 94 - in order traversal\n",
    "vals = []\n",
    "def inorder(node):\n",
    "    if not node:\n",
    "        return\n",
    "    inorder(node.left)\n",
    "    vals.append(node.val)\n",
    "    inorder(node.right)\n",
    "return vals"
   ]
  },
  {
   "cell_type": "code",
   "execution_count": null,
   "id": "b3e20936",
   "metadata": {},
   "outputs": [],
   "source": [
    "# leetcode 104 - maximum depth of binary tree\n",
    "def dfs(node):\n",
    "    if not node:\n",
    "        return 0 # when get none, end of edges, don't add any more\n",
    "    return 1 + max(dfs(node.left), dfs(node.right)) # add one for every edge\n",
    "return dfs(root)"
   ]
  },
  {
   "cell_type": "code",
   "execution_count": null,
   "id": "aabded5c",
   "metadata": {},
   "outputs": [],
   "source": [
    "# leetcode 226 - invert binary tree\n",
    "trav = root\n",
    "def inorder(node):\n",
    "    if not node:\n",
    "        return\n",
    "    # swap the nodes\n",
    "    temp = node.left\n",
    "    node.left = node.right\n",
    "    node.right = temp\n",
    "    inorder(node.left)\n",
    "    inorder(node.right)\n",
    "inorder(root)\n",
    "return trav"
   ]
  }
 ],
 "metadata": {
  "language_info": {
   "name": "python"
  }
 },
 "nbformat": 4,
 "nbformat_minor": 5
}
