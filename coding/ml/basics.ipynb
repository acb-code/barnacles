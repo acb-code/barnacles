{
 "cells": [
  {
   "cell_type": "code",
   "execution_count": null,
   "id": "1714f873",
   "metadata": {},
   "outputs": [],
   "source": [
    "# matrix multiplication\n",
    "# C = AB\n",
    "# computed as the dot product of rows of A with columns of B\n",
    "# dimensions: (M,K)*(K,N) -> (M,N)\n",
    "#\n",
    "# basic algorithm is O(NMK), specialized algorithms exist for certain cases"
   ]
  },
  {
   "cell_type": "code",
   "execution_count": null,
   "id": "14513446",
   "metadata": {},
   "outputs": [],
   "source": [
    "# python from scratch\n",
    "def matmul_py(A, B):\n",
    "    # A: (M, K) list-of-lists, B: (K, N)\n",
    "    M = len(A)\n",
    "    K = len(A[0]) if M else 0\n",
    "    assert all(len(row) == K for row in A), \"A is jagged\"\n",
    "    assert len(B) == K, \"Inner dims must match\"\n",
    "    N = len(B[0]) if K else 0\n",
    "    assert all(len(row) == N for row in B), \"B is jagged\"\n",
    "\n",
    "    C = [[0.0 for _ in range(N)] for _ in range(M)]\n",
    "\n",
    "    # Loop order i-k-j for decent cache behavior with Python lists\n",
    "    for i in range(M):\n",
    "        for k in range(K):\n",
    "            aik = A[i][k]\n",
    "            rowBk = B[k]  # small local alias to avoid repeated lookups\n",
    "            Ci = C[i]\n",
    "            for j in range(N):\n",
    "                Ci[j] += aik * rowBk[j]\n",
    "    return C\n"
   ]
  },
  {
   "cell_type": "code",
   "execution_count": null,
   "id": "07d3d3a1",
   "metadata": {},
   "outputs": [],
   "source": [
    "# using numpy\n",
    "import numpy as np\n",
    "\n",
    "A = np.array([[1,2,3],[4,5,6]], dtype=np.float32)   # (2,3)\n",
    "B = np.array([[7,8],[9,10],[11,12]], dtype=np.float32)  # (3,2)\n",
    "\n",
    "C1 = A @ B           # preferred: uses __matmul__\n",
    "C2 = np.matmul(A, B) # same as @ for 2D\n",
    "C3 = np.dot(A, B)    # for 2D equals matmul; for 1D behaves differently (not preferred)\n",
    "\n",
    "assert np.allclose(C1, [[58,64],[139,154]])\n"
   ]
  },
  {
   "cell_type": "code",
   "execution_count": null,
   "id": "df9b241f",
   "metadata": {},
   "outputs": [],
   "source": [
    "# for batches\n",
    "Bsz, M, K, N = 4, 32, 64, 128\n",
    "A = np.random.randn(Bsz, M, K).astype(np.float32)\n",
    "Bmat = np.random.randn(Bsz, K, N).astype(np.float32)\n",
    "\n",
    "C = A @ Bmat              # or np.matmul(A, Bmat)\n",
    "assert C.shape == (Bsz, M, N)\n"
   ]
  },
  {
   "cell_type": "code",
   "execution_count": null,
   "id": "84b677d6",
   "metadata": {},
   "outputs": [],
   "source": [
    "# einsum notation for simplicity\n",
    "C = np.einsum('bmk,bkn->bmn', A, Bmat)  # same result as A @ Bmat\n"
   ]
  }
 ],
 "metadata": {
  "language_info": {
   "name": "python"
  }
 },
 "nbformat": 4,
 "nbformat_minor": 5
}
