{
 "cells": [
  {
   "cell_type": "code",
   "execution_count": null,
   "id": "5f439a07",
   "metadata": {},
   "outputs": [],
   "source": [
    "# Linked Lists\n",
    "# data structure with .val and .next\n",
    "# iterate through list\n",
    "class Node:\n",
    "    def __init__(self, data):\n",
    "        self.data = data\n",
    "        self.next = None\n",
    "\n",
    "# traverse\n",
    "curr = head\n",
    "while curr:\n",
    "    print(curr.data)\n",
    "    curr = curr.next"
   ]
  },
  {
   "cell_type": "code",
   "execution_count": null,
   "id": "b6ccb995",
   "metadata": {},
   "outputs": [],
   "source": [
    "# leetcode 206 - reverse linked list\n",
    "prev = None\n",
    "curr = head\n",
    "while curr:\n",
    "    nxt = curr.next\n",
    "    prev = curr\n",
    "    curr = nxt\n",
    "head = prev\n",
    "return head"
   ]
  },
  {
   "cell_type": "code",
   "execution_count": null,
   "id": "dace22fe",
   "metadata": {},
   "outputs": [],
   "source": [
    "# leetcode 21 - merge two sorted lists\n",
    "dummy = ListNode()\n",
    "curr = dummy\n",
    "while list1 and list2:\n",
    "    if list1.val < list2.val:\n",
    "        curr.next = list1\n",
    "        list1 = list1.next\n",
    "    else:\n",
    "        curr.next = list2\n",
    "        list2 = list2.next\n",
    "    curr = curr.next\n",
    "curr.next = list1 or list2\n",
    "return dummy.next"
   ]
  },
  {
   "cell_type": "code",
   "execution_count": null,
   "id": "e7e29921",
   "metadata": {},
   "outputs": [],
   "source": [
    "# leetcode 141 - linked list cycle\n",
    "pt1 = head\n",
    "if pt1 == None:\n",
    "    return False\n",
    "pt2 = head.next\n",
    "if pt2 == None:\n",
    "    return False\n",
    "while pt1 and pt2:\n",
    "    if pt1 == pt2:\n",
    "        return True\n",
    "    if pt2.next is None or pt2.next.next is None:\n",
    "        return False\n",
    "    pt1 = pt1.next\n",
    "    pt2 = pt2.next.next\n",
    "return False"
   ]
  },
  {
   "cell_type": "code",
   "execution_count": null,
   "id": "9db05934",
   "metadata": {},
   "outputs": [],
   "source": []
  },
  {
   "cell_type": "code",
   "execution_count": null,
   "id": "d4ab0b24",
   "metadata": {},
   "outputs": [],
   "source": []
  },
  {
   "cell_type": "code",
   "execution_count": null,
   "id": "aa49917c",
   "metadata": {},
   "outputs": [],
   "source": []
  },
  {
   "cell_type": "code",
   "execution_count": null,
   "id": "ae43effc",
   "metadata": {},
   "outputs": [],
   "source": []
  }
 ],
 "metadata": {
  "language_info": {
   "name": "python"
  }
 },
 "nbformat": 4,
 "nbformat_minor": 5
}
