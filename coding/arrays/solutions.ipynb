{
 "cells": [
  {
   "cell_type": "code",
   "execution_count": null,
   "id": "4226e8cc",
   "metadata": {},
   "outputs": [],
   "source": [
    "# Array\n",
    "# - hold data at contiguous memory locations\n",
    "# - access is O(1), traversing O(N), adding/removing elements O(N) unless at the end\n",
    "# - Searching a sorted array is O(log(N)), Slicing/Concat is O(N)\n",
    "\n",
    "# common techniques\n",
    "# - sliding window - two pointers move across array w/o jumping over each other - O(N) to compare/combine elements\n",
    "# - two pointers - can cross/jump, be on different arrays (e.g., compare, merge)\n",
    "# - sorting - if yes, binary search possible, can sort first to simplify some problems\n",
    "# - precomputing - sum/multiply subarrays, use map to store or prefix/suffix\n",
    "# - index as a map - "
   ]
  },
  {
   "cell_type": "code",
   "execution_count": null,
   "id": "2fdd05c1",
   "metadata": {},
   "outputs": [],
   "source": [
    "# leetcode - two sum\n",
    "\n",
    "m = {}\n",
    "for i in range(len(nums)):\n",
    "    n = nums[i]\n",
    "    if n in m:\n",
    "        return i, m[n]\n",
    "    comp = target - n\n",
    "    m[comp] = i\n"
   ]
  },
  {
   "cell_type": "code",
   "execution_count": null,
   "id": "afa85d5f",
   "metadata": {},
   "outputs": [],
   "source": [
    "# leetcode - best time to buy and sell stock\n",
    "best = 0\n",
    "buy = prices[0]\n",
    "for i in range(1, len(prices)):\n",
    "    sell = prices[i]\n",
    "    profit = sell - buy\n",
    "    if profit > best:\n",
    "        best = profit\n",
    "    if sell < buy:\n",
    "        buy = sell\n",
    "return best"
   ]
  },
  {
   "cell_type": "code",
   "execution_count": null,
   "id": "52250d1a",
   "metadata": {},
   "outputs": [],
   "source": [
    "# leetcode 217 - contains duplicate\n",
    "m = {}\n",
    "for n in nums:\n",
    "    if n not in m:\n",
    "        m[n] = 1\n",
    "    else:\n",
    "        m[n] += 1\n",
    "        return True\n",
    "return False"
   ]
  },
  {
   "cell_type": "code",
   "execution_count": null,
   "id": "c7c0ea76",
   "metadata": {},
   "outputs": [],
   "source": [
    "# leetcode - merge sorted array\n",
    "p1 = 0\n",
    "p2 = 0\n",
    "while True:\n",
    "    if p1 - p2 == m: # nums1 complete\n",
    "        num1[pt1:] = nums2[pt2:]\n",
    "        break\n",
    "    elif p2 == n: # nums2 complete\n",
    "        break\n",
    "    elif nums2[p2] <= nums1[p1]:\n",
    "        # keep nums1 size by dropping last element\n",
    "        nums1.pop()\n",
    "        nums1.insert(p1, nums2[p2])\n",
    "        p1 += 1\n",
    "        p2 += 1\n",
    "    else:\n",
    "        p1 += 1\n"
   ]
  },
  {
   "cell_type": "code",
   "execution_count": null,
   "id": "424f068f",
   "metadata": {},
   "outputs": [],
   "source": [
    "# leetcode 49 - group anagrams\n",
    "out = []\n",
    "m = {}\n",
    "i = 0\n",
    "for s in strs:\n",
    "    base = str(sorted(s))\n",
    "    if base not in m:\n",
    "        m[base] = i\n",
    "        i += 1\n",
    "        out.append([s])\n",
    "    else:\n",
    "        out[m[base]].append(s)\n",
    "return out"
   ]
  },
  {
   "cell_type": "code",
   "execution_count": null,
   "id": "3aa22a91",
   "metadata": {},
   "outputs": [],
   "source": [
    "# leetcode 347 - top-k frequent elements\n",
    "m = {}\n",
    "for n in nums:\n",
    "    if n not in m:\n",
    "        m[n] = 1\n",
    "    else:\n",
    "        m[n] += 1\n",
    "return sorted(m, key=m.get)[-k:]"
   ]
  },
  {
   "cell_type": "code",
   "execution_count": null,
   "id": "414d237c",
   "metadata": {},
   "outputs": [],
   "source": [
    "# leetcode 3 - longest substring without repeating characters\n",
    "chars = set()\n",
    "left = 0\n",
    "right = 0\n",
    "best = 0\n",
    "while right < len(s):\n",
    "    if s[right] not in chars:\n",
    "        chars.add(s[right])\n",
    "        right += 1\n",
    "    else:\n",
    "        chars.remove(s[left])\n",
    "        left += 1\n",
    "    if len(chars) > best:\n",
    "        best = len(chars)\n",
    "return best\n"
   ]
  },
  {
   "cell_type": "code",
   "execution_count": null,
   "id": "a356e95e",
   "metadata": {},
   "outputs": [],
   "source": [
    "# leetcode 560 - subarray sum equals k\n",
    "count = 0\n",
    "prefix = 0\n",
    "m = {}\n",
    "for n in nums:\n",
    "    prefix += n:\n",
    "    if prefix == k:\n",
    "        count += 1\n",
    "    need = prefix - k\n",
    "    if need in m:\n",
    "        count += m[prefix-k]\n",
    "    if prefix not in m:\n",
    "        m[prefix] = 1\n",
    "    else:\n",
    "        m[prefix] += 1\n",
    "return count"
   ]
  },
  {
   "cell_type": "code",
   "execution_count": null,
   "id": "cf4cda4d",
   "metadata": {},
   "outputs": [],
   "source": [
    "# leetcode 1493 - longest subarray of 1s after deleting one element\n",
    "class Solution(object):\n",
    "    def longestSubarray(self, nums):\n",
    "        left = 0\n",
    "        zero_count = 0\n",
    "        ans = 0\n",
    "\n",
    "        for right, x in enumerate(nums):\n",
    "            if x == 0:\n",
    "                zero_count += 1\n",
    "\n",
    "            while zero_count > 1:\n",
    "                if nums[left] == 0:\n",
    "                    zero_count -= 1\n",
    "                left += 1\n",
    "\n",
    "            # window length minus one deleted element\n",
    "            ans = max(ans, right - left)\n",
    "\n",
    "        return ans"
   ]
  },
  {
   "cell_type": "code",
   "execution_count": null,
   "id": "3b7026e4",
   "metadata": {},
   "outputs": [],
   "source": [
    "# leetcode 1732 - find the highest altitude\n",
    "class Solution(object):\n",
    "    def largestAltitude(self, gain):\n",
    "        \"\"\"\n",
    "        :type gain: List[int]\n",
    "        :rtype: int\n",
    "        \"\"\"\n",
    "        max_alt = 0\n",
    "        cur_alt = 0\n",
    "        for h in gain:\n",
    "            cur_alt += h\n",
    "            max_alt = max(max_alt, cur_alt)\n",
    "        return max_alt"
   ]
  },
  {
   "cell_type": "code",
   "execution_count": null,
   "id": "b39381f8",
   "metadata": {},
   "outputs": [],
   "source": [
    "# leetcode 727 - find pivot index\n",
    "class Solution(object):\n",
    "    def pivotIndex(self, nums):\n",
    "        \"\"\"\n",
    "        :type nums: List[int]\n",
    "        :rtype: int\n",
    "        \"\"\"\n",
    "        total = sum(nums)\n",
    "        left_sum = 0\n",
    "\n",
    "        for i, x in enumerate(nums):\n",
    "            # right_sum = total - left_sum - x\n",
    "            if left_sum == total - left_sum - x:\n",
    "                return i\n",
    "            left_sum += x\n",
    "\n",
    "        return -1"
   ]
  },
  {
   "cell_type": "code",
   "execution_count": null,
   "id": "8a097a2a",
   "metadata": {},
   "outputs": [],
   "source": [
    "# leetcode 2215 - find the difference of two arrays\n",
    "class Solution(object):\n",
    "    def findDifference(self, nums1, nums2):\n",
    "        \"\"\"\n",
    "        :type nums1: List[int]\n",
    "        :type nums2: List[int]\n",
    "        :rtype: List[List[int]]\n",
    "        \"\"\"\n",
    "        set1, set2 = set(nums1), set(nums2)\n",
    "        return [list(set1 - set2), list(set2 - set1)]"
   ]
  },
  {
   "cell_type": "code",
   "execution_count": null,
   "id": "632e6d85",
   "metadata": {},
   "outputs": [],
   "source": []
  }
 ],
 "metadata": {
  "language_info": {
   "name": "python"
  }
 },
 "nbformat": 4,
 "nbformat_minor": 5
}
