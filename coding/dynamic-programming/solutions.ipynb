{
 "cells": [
  {
   "cell_type": "code",
   "execution_count": null,
   "id": "f7ae5b0c",
   "metadata": {},
   "outputs": [],
   "source": [
    "# dynamic programming - break problems up into iterative subproblems\n",
    "# solve each subproblem once, get major gains by reusing past computations\n",
    "# e.g., Markov state transitions, solving a matrix a column at a time\n",
    "\n",
    "# process:\n",
    "#   1. identify the state (e.g., current step number)\n",
    "#   2. define the recursion (how does this state relate to other states, e.g., ways[i] = ways[i-1] + ways[i-2]\n",
    "#   3. identify the base cases (initial conditions, e.g., ways[0] = 0, ways[1] = 1, ways[2] = 2)\n",
    "#   4. fill the table or cache (iteratively compute or recursively memoize)"
   ]
  },
  {
   "cell_type": "code",
   "execution_count": null,
   "id": "f1274b10",
   "metadata": {},
   "outputs": [],
   "source": [
    "# leetcode 70 - climb stairs\n",
    "def climb_stairs(n):\n",
    "    if n <= 2:\n",
    "        return n\n",
    "    dp = [0] * (n+1) # preallocate space, size based on number of state transitions needed to complete table\n",
    "    dp[1], dp[2] = 1, 2 # initial conditions\n",
    "    for i in range(3, n+1):\n",
    "        dp[i] = dp[i-1] + dp[i-2]\n",
    "    return dp[n]\n",
    "\n",
    "# option, save space and only keep current states on the books\n",
    "def climb_stairs(n):\n",
    "    prev2, prev1 = 1, 2\n",
    "    for i in range(3, n+1):\n",
    "        curr = prev1 + prev2\n",
    "        prev2, prev1 = prev1, curr\n",
    "    return curr\n",
    "\n",
    "# option top down\n",
    "def climb_stairs(n):\n",
    "    memo = {1: 1, 2: 2}\n",
    "    def f(k):\n",
    "        if k in memo:\n",
    "            return memo[k]\n",
    "        memo[k] = f(k-1) + f(k-2)\n",
    "        return memo[k]\n",
    "    return f(n)"
   ]
  },
  {
   "cell_type": "code",
   "execution_count": null,
   "id": "2f57892a",
   "metadata": {},
   "outputs": [],
   "source": [
    "# leetcode 198 - house robber\n",
    "def rob(nums):\n",
    "    if not nums: return 0\n",
    "    n = len(nums)\n",
    "    if n == 1: return nums[0]\n",
    "    dp = [0]*n\n",
    "    dp[0] = nums[0]\n",
    "    dp[1] = max(dp[0], nums[1])\n",
    "    for i in range(2, n):\n",
    "        dp[i] = max(dp[i-1], dp[i-2] + nums[i])\n",
    "    return dp[-1]\n",
    "\n",
    "# O(1) space\n",
    "def rob(nums):\n",
    "    prev2, prev1 = 0, 0\n",
    "    for x in nums:\n",
    "        curr = max(prev1, prev2 + x)\n",
    "        prev2, prev1 = prev1, curr\n",
    "    return prev1\n",
    "\n",
    "# memo\n",
    "def rob(nums):\n",
    "    from  functools import lru_cache\n",
    "    n = len(nums)\n",
    "    @lru_cache(None)\n",
    "    def best(i):\n",
    "        if i >= n: return 0\n",
    "        return max(best(i+1), nums[i] + best(i+2))\n",
    "    return best(0)\n"
   ]
  },
  {
   "cell_type": "code",
   "execution_count": null,
   "id": "a0e2a2db",
   "metadata": {},
   "outputs": [],
   "source": [
    "# leetcode 322 - coin change\n",
    "def min_coins(coins, amount):\n",
    "    # preallocate\n",
    "    INF = amount + 1\n",
    "    dp = [INF] * (amount + 1)\n",
    "    # initial conditions\n",
    "    dp[0] = 0\n",
    "    for x in range(1, amount+1): # compute for all amounts up amount\n",
    "        for coin in coins: # check and get min across all coin types\n",
    "            if x - coin >= 0: # make sure cur coin not too large\n",
    "                dp[x] = min(dp[x], dp[x-coin] + 1)\n",
    "    return dp[amount] if dp[amount] != INF else -1\n"
   ]
  },
  {
   "cell_type": "code",
   "execution_count": null,
   "id": "49bba41a",
   "metadata": {},
   "outputs": [],
   "source": []
  },
  {
   "cell_type": "code",
   "execution_count": null,
   "id": "ec47687c",
   "metadata": {},
   "outputs": [],
   "source": []
  }
 ],
 "metadata": {
  "language_info": {
   "name": "python"
  }
 },
 "nbformat": 4,
 "nbformat_minor": 5
}
