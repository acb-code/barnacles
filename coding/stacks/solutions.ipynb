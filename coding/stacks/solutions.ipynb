{
 "cells": [
  {
   "cell_type": "code",
   "execution_count": null,
   "id": "9f2bc31c",
   "metadata": {},
   "outputs": [],
   "source": []
  },
  {
   "cell_type": "code",
   "execution_count": null,
   "id": "5d265446",
   "metadata": {},
   "outputs": [],
   "source": [
    "# leetcode 20 - valid paranthesis\n",
    "stack = []\n",
    "pairs = {'(':')', '[':']', '{':'}'}\n",
    "for c in s:\n",
    "    if c in pairs:\n",
    "        stack.append(pairs[c])\n",
    "    else:\n",
    "        if not stack or stack.pop() != c:\n",
    "            return False\n",
    "return not stack"
   ]
  },
  {
   "cell_type": "code",
   "execution_count": null,
   "id": "369f4499",
   "metadata": {},
   "outputs": [],
   "source": [
    "# leetcode 155 - Min Stack\n",
    "class MinStack(object):\n",
    "    def __init__(self):\n",
    "        self.stack = []\n",
    "        self.mins = []\n",
    "    def push(self, val):\n",
    "        self.stack.append(val)\n",
    "        if len(self.mins) != 0:\n",
    "            self.mins.append(min(val, self.mins[-1]))\n",
    "        else:\n",
    "            self.mins.append(val)\n",
    "    def pop(self):\n",
    "        self.mins.pop()\n",
    "        return self.stack.pop()\n",
    "    def top(self):\n",
    "        return self.stack[-1]\n",
    "    def getMin(self):\n",
    "        return self.mins[-1]"
   ]
  },
  {
   "cell_type": "code",
   "execution_count": null,
   "id": "7626a1af",
   "metadata": {},
   "outputs": [],
   "source": []
  },
  {
   "cell_type": "code",
   "execution_count": null,
   "id": "17ce8d1f",
   "metadata": {},
   "outputs": [],
   "source": []
  }
 ],
 "metadata": {
  "language_info": {
   "name": "python"
  }
 },
 "nbformat": 4,
 "nbformat_minor": 5
}
